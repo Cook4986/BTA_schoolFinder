{
 "cells": [
  {
   "cell_type": "code",
   "execution_count": null,
   "id": "9709c481",
   "metadata": {},
   "outputs": [],
   "source": [
    "#Takes historic school names and returns:\n",
    "#Latitude\tLongitude\tGeoNames Name\tFeature Code\tFeature Class\n",
    "\n",
    "##Test Input: \n",
    "##https://docs.google.com/spreadsheets/d/1VHF2QYGxQdMeTR1kGhoncK21sidmrk6Mis0h5VY4AiE/edit#gid=2140551881\n"
   ]
  },
  {
   "cell_type": "code",
   "execution_count": null,
   "id": "90ad0014",
   "metadata": {},
   "outputs": [],
   "source": [
    "import pandas as pd\n",
    "import requests\n",
    "\n",
    "def is_county_in_hierarchy(username, geonameId, target_county):\n",
    "    hierarchy_url = \"http://api.geonames.org/hierarchyJSON\"\n",
    "    params = {\n",
    "        'geonameId': geonameId,\n",
    "        'username': username\n",
    "    }\n",
    "    response = requests.get(hierarchy_url, params=params)\n",
    "    if response.status_code == 200:\n",
    "        hierarchy_data = response.json()\n",
    "        for place in hierarchy_data.get('geonames', []):\n",
    "            if target_county.lower() in place.get('name', '').lower():\n",
    "                return True\n",
    "    return False\n",
    "\n",
    "def get_school_info(username, school, target_county, fuzzy):\n",
    "    # Extract the first word of the school's name for broader search\n",
    "    base_school_name = school.split()[0]\n",
    "    school_name_extension = school.split()[1:]\n",
    "    s = \" \"\n",
    "    school_name_extension = s.join(school_name_extension)\n",
    "    # Educational institution types to include in the search\n",
    "    institution_types = [school_name_extension, \"School\", \"College\", \"Academy\", school_name_extension + \" (historical)\"]\n",
    "    \n",
    "    # Attempt searches for each institution type with the base school name\n",
    "    for institution_type in institution_types:\n",
    "        print(\"Searching \",f\"{base_school_name} {institution_type}\",\"\\n\")\n",
    "        search_url = \"http://api.geonames.org/searchJSON\"\n",
    "        search_params = {\n",
    "            'q': f\"{base_school_name} {institution_type}\",\n",
    "            'country': 'US',\n",
    "            'adminCode1': 'TN',\n",
    "            'username': username,\n",
    "            'fuzzy': fuzzy,\n",
    "            'maxRows': 100\n",
    "        }\n",
    "        search_response = requests.get(search_url, params=search_params)\n",
    "        if search_response.status_code == 200:\n",
    "            search_data = search_response.json()\n",
    "            for result in search_data.get('geonames', []):\n",
    "                if is_county_in_hierarchy(username, result['geonameId'], target_county) and result.get('fcode', '') == 'SCH':\n",
    "                    return result['lat'], result['lng'], result.get('name', ''), result.get('fcode', ''), result.get('fcl', '')\n",
    "\n",
    "    return None, None, None, None, None\n",
    "\n",
    "# Load your CSV file into a DataFrame\n",
    "csv_file_path = '...'  # Update with the actual path\n",
    "df = pd.read_csv(csv_file_path)\n",
    "\n",
    "geonames_username = '...'  # Update with your actual GeoNames username\n",
    "fuzzy_value = 0.8  # Adjust based on your needs\n",
    "\n",
    "for index, row in df.iterrows():\n",
    "    school = row['SCHOOL']\n",
    "    county = row['COUNTY']\n",
    "    \n",
    "    lat, lng, geoname_name, fcode, fcl = get_school_info(geonames_username, school, county, fuzzy_value)\n",
    "    if lat and lng:\n",
    "        df.at[index, 'Latitude'] = lat\n",
    "        df.at[index, 'Longitude'] = lng\n",
    "        df.at[index, 'GeoNames Name'] = geoname_name\n",
    "        df.at[index, 'Feature Code'] = fcode\n",
    "        df.at[index, 'Feature Class'] = fcl\n",
    "    else:\n",
    "        print(f\"No valid results found for {school} in {county}\")\n",
    "\n",
    "# Save the updated DataFrame back to CSV\n",
    "updated_csv_file_path = '/Users/matthewcook/Dropbox/DSP/Broadnax/Tennessee State_1938_April2_0.75-Fuzzy.csv'  # Update with the actual path\n",
    "df.to_csv(updated_csv_file_path, index=False)\n",
    "print(f\"Updated CSV file saved to {updated_csv_file_path}.\")\n"
   ]
  },
  {
   "cell_type": "code",
   "execution_count": null,
   "id": "28047bbd",
   "metadata": {},
   "outputs": [],
   "source": [
    "#TO DO\n",
    "#Find Nearest Address:\n",
    "##https://www.geonames.org/maps/us-reverse-geocoder.html#findNearestAddress\n",
    "#Table image OCR?\n",
    "#hmbd.org search automation\n",
    "#other \"State Association Black Schools\"\n"
   ]
  },
  {
   "cell_type": "code",
   "execution_count": null,
   "id": "3bdf5090",
   "metadata": {},
   "outputs": [],
   "source": [
    "##Cook 2024"
   ]
  }
 ],
 "metadata": {
  "kernelspec": {
   "display_name": "Python 3 (ipykernel)",
   "language": "python",
   "name": "python3"
  },
  "language_info": {
   "codemirror_mode": {
    "name": "ipython",
    "version": 3
   },
   "file_extension": ".py",
   "mimetype": "text/x-python",
   "name": "python",
   "nbconvert_exporter": "python",
   "pygments_lexer": "ipython3",
   "version": "3.8.13"
  }
 },
 "nbformat": 4,
 "nbformat_minor": 5
}
